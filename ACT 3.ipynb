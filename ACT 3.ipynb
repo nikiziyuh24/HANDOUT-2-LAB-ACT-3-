{
 "cells": [
  {
   "cell_type": "code",
   "execution_count": null,
   "metadata": {},
   "outputs": [],
   "source": [
    "#ACT 3\n",
    "\n",
    "def num():\n",
    "    num = int(input(\"ENTER A NUMBER:\"))\n",
    "    if num % 2 == 0:\n",
    "        print(num, \"is an even number\")\n",
    "    else: \n",
    "        print(num, \"is an odd number\")\n",
    "\n",
    "num()\n"
   ]
  }
 ],
 "metadata": {
  "kernelspec": {
   "display_name": "Python 3 (ipykernel)",
   "language": "python",
   "name": "python3"
  },
  "language_info": {
   "codemirror_mode": {
    "name": "ipython",
    "version": 3
   },
   "file_extension": ".py",
   "mimetype": "text/x-python",
   "name": "python",
   "nbconvert_exporter": "python",
   "pygments_lexer": "ipython3",
   "version": "3.11.0"
  }
 },
 "nbformat": 4,
 "nbformat_minor": 4
}
